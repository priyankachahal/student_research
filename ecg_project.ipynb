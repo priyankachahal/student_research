{
  "nbformat": 4,
  "nbformat_minor": 0,
  "metadata": {
    "colab": {
      "name": "ecg_project.ipynb",
      "provenance": [],
      "collapsed_sections": [],
      "machine_shape": "hm",
      "authorship_tag": "ABX9TyOvOMR3Y7Itx/xASEEgTEEF",
      "include_colab_link": true
    },
    "kernelspec": {
      "name": "python3",
      "display_name": "Python 3"
    }
  },
  "cells": [
    {
      "cell_type": "markdown",
      "metadata": {
        "id": "view-in-github",
        "colab_type": "text"
      },
      "source": [
        "<a href=\"https://colab.research.google.com/github/priyankachahal/student_research/blob/master/ecg_project.ipynb\" target=\"_parent\"><img src=\"https://colab.research.google.com/assets/colab-badge.svg\" alt=\"Open In Colab\"/></a>"
      ]
    },
    {
      "cell_type": "code",
      "metadata": {
        "id": "NG7gQgjNXFU9",
        "colab_type": "code",
        "outputId": "25fc3093-57d9-45c9-cd4c-e94fd3e30356",
        "colab": {
          "base_uri": "https://localhost:8080/",
          "height": 34
        }
      },
      "source": [
        "from google.colab import drive\n",
        "drive.mount('/content/drive')"
      ],
      "execution_count": 0,
      "outputs": [
        {
          "output_type": "stream",
          "text": [
            "Drive already mounted at /content/drive; to attempt to forcibly remount, call drive.mount(\"/content/drive\", force_remount=True).\n"
          ],
          "name": "stdout"
        }
      ]
    },
    {
      "cell_type": "code",
      "metadata": {
        "colab_type": "code",
        "id": "GQ18Kd5F3uKe",
        "outputId": "15b7ec7e-e8ec-4190-bc65-5661ccdcdbea",
        "colab": {
          "base_uri": "https://localhost:8080/",
          "height": 34
        }
      },
      "source": [
        "!pip install -q https://github.com/neuropsychology/NeuroKit.py/zipball/master"
      ],
      "execution_count": 0,
      "outputs": [
        {
          "output_type": "stream",
          "text": [
            "  Building wheel for neurokit (setup.py) ... \u001b[?25l\u001b[?25hdone\n"
          ],
          "name": "stdout"
        }
      ]
    },
    {
      "cell_type": "code",
      "metadata": {
        "id": "aNVTi0QIYyoA",
        "colab_type": "code",
        "colab": {}
      },
      "source": [
        "import os\n",
        "import sys\n",
        "import glob\n",
        "\n",
        "import matplotlib.pyplot as plt\n",
        "import numpy as np\n",
        "import pandas as pd\n",
        "import math\n",
        "from sklearn.externals import joblib\n",
        "import neurokit as nk\n",
        "import tensorflow as tf\n",
        "from sklearn.preprocessing import MinMaxScaler\n",
        "from sklearn.model_selection import train_test_split\n",
        "from keras.layers import Dense, LSTM, Dropout, Activation\n",
        "from keras.models import Sequential\n",
        "from keras.optimizers import SGD\n",
        "from keras.wrappers.scikit_learn import KerasClassifier"
      ],
      "execution_count": 0,
      "outputs": []
    },
    {
      "cell_type": "code",
      "metadata": {
        "id": "suWqTqRHatL3",
        "colab_type": "code",
        "colab": {}
      },
      "source": [
        "# paths for different type of files\n",
        "ECG_VALUES_FILES_PATH = '/content/drive/My Drive/Final Project/dataset/ecg-bg/data/ECG'\n",
        "DATA_FRAME_FILE_PATH = '/content/drive/My Drive/Final Project/dataset/ecg-bg/ecg_reading_data_frame.csv'\n",
        "META_DATA_FILE_PATH = '/content/drive/My Drive/Final Project/dataset/ecg-bg/data/meta.csv'"
      ],
      "execution_count": 0,
      "outputs": []
    },
    {
      "cell_type": "code",
      "metadata": {
        "id": "nQZbbhns6sxX",
        "colab_type": "code",
        "colab": {}
      },
      "source": [
        "def extract_filename_from_path(path):\n",
        "  return (os.path.split(path)[1])"
      ],
      "execution_count": 0,
      "outputs": []
    },
    {
      "cell_type": "code",
      "metadata": {
        "id": "If97I3EEU4Tf",
        "colab_type": "code",
        "colab": {}
      },
      "source": [
        "def get_input_dataframe(use_data_frame_file = True):\n",
        "  # read the labels from meta data and append them in the end\n",
        "  meta_data_frame = pd.read_csv(META_DATA_FILE_PATH, engine='python',skiprows = 1, names=['Id',\t'Date',\t'Time',\t'Age',\t'Gender',\t'Height',\t'Weight',\t'Hr',\t'G'])\n",
        "  ecg_labels_dict = {}\n",
        "  for index, row in meta_data_frame.iterrows():\n",
        "    if (int(row[\"G\"]) > 140):\n",
        "      ecg_labels_dict[row[\"Id\"]] = 1\n",
        "    else:\n",
        "      ecg_labels_dict[row[\"Id\"]] = 0\n",
        "  # read the ecg values either from pre-calculated file or from each file by file.\n",
        "  ecg_values_data_frame = pd.DataFrame()\n",
        "  if use_data_frame_file:\n",
        "      ecg_values_data_frame = pd.read_csv(DATA_FRAME_FILE_PATH, engine='python')\n",
        "  else:\n",
        "    all_files = glob.glob(ECG_VALUES_FILES_PATH + '/*.csv')\n",
        "    li_df = []\n",
        "    counter = 0\n",
        "    for filename in all_files:\n",
        "      df = pd.read_csv(filename, usecols=[1], engine='python')\n",
        "      df = df.transpose();\n",
        "      df.insert(0, 'fn', extract_filename_from_path(filename))\n",
        "      li_df.append(df)\n",
        "      counter = counter + 1\n",
        "      if counter % 10 == 0:\n",
        "        print(counter)\n",
        "    ecg_values_data_frame = pd.concat(li_df, axis=0, ignore_index=True)\n",
        "  label_serries_arr = []\n",
        "  # iterate over file name column so that we can create a corresponding column for labels to be appended to ecg_values_data_frame\n",
        "  for filename_col in ecg_values_data_frame[['fn']]:\n",
        "    print(ecg_values_data_frame[filename_col].values.shape)\n",
        "    for index, x in np.ndenumerate(ecg_values_data_frame[filename_col].values):\n",
        "      key = x.replace(\".csv\", \"\")\n",
        "      label_serries_arr.append(ecg_labels_dict[key])\n",
        "  label_serries = pd.Series(data=label_serries_arr)\n",
        "  ecg_values_data_frame['labels'] = label_serries\n",
        "  return ecg_values_data_frame"
      ],
      "execution_count": 0,
      "outputs": []
    },
    {
      "cell_type": "code",
      "metadata": {
        "id": "zeherpMbhi64",
        "colab_type": "code",
        "outputId": "0854e5cf-8e9c-4b38-dd50-d81ca9204604",
        "colab": {
          "base_uri": "https://localhost:8080/",
          "height": 34
        }
      },
      "source": [
        "ecg_values_data_frame = get_input_dataframe()"
      ],
      "execution_count": 0,
      "outputs": [
        {
          "output_type": "stream",
          "text": [
            "(2238,)\n"
          ],
          "name": "stdout"
        }
      ]
    },
    {
      "cell_type": "code",
      "metadata": {
        "id": "otZTHUbI5Cog",
        "colab_type": "code",
        "colab": {}
      },
      "source": [
        "ecg_values_data_frame_deleted = ecg_values_data_frame.drop('fn', 1)"
      ],
      "execution_count": 0,
      "outputs": []
    },
    {
      "cell_type": "code",
      "metadata": {
        "id": "0_V6Y6Ta5WaX",
        "colab_type": "code",
        "colab": {}
      },
      "source": [
        "ecg_values = ecg_values_data_frame_deleted.values"
      ],
      "execution_count": 0,
      "outputs": []
    },
    {
      "cell_type": "code",
      "metadata": {
        "id": "dhgnvlaEyf2A",
        "colab_type": "code",
        "colab": {}
      },
      "source": [
        "def sample_training_dataset(input_values, percentage = 0.7):\n",
        "  freqmap = np.array(np.unique(input_values[:, [input_values.shape[1] - 1]].astype(int), return_counts=True)).T\n",
        "  freqmap[:,1] = freqmap[:,1].astype(float) * percentage\n",
        "  # stores the required freq of each label\n",
        "  labelCountDict = {};\n",
        "  for label, freq in freqmap:\n",
        "    labelCountDict[label] = float(freq)\n",
        "  print(labelCountDict)\n",
        "  train_arr, test_arr = [], []\n",
        "  # go through each row of input array after removing NaN\n",
        "  for row in input_values:\n",
        "    label_column_index = row[input_values.shape[1] - 1]\n",
        "    # if we still have required freq of label, we add to train dataset or add to test dataset\n",
        "    if labelCountDict[label_column_index] > 0:\n",
        "      train_arr.append(row)\n",
        "      labelCountDict[label_column_index] = labelCountDict[label_column_index] - 1\n",
        "    else:\n",
        "      test_arr.append(row)\n",
        "  return np.array(train_arr), np.array(test_arr)"
      ],
      "execution_count": 0,
      "outputs": []
    },
    {
      "cell_type": "code",
      "metadata": {
        "id": "7z9733U6CNy6",
        "colab_type": "code",
        "outputId": "b70aea25-2c8a-4147-8998-ed986efc508b",
        "colab": {
          "base_uri": "https://localhost:8080/",
          "height": 34
        }
      },
      "source": [
        "train, test = sample_training_dataset(ecg_values, 0.8)"
      ],
      "execution_count": 0,
      "outputs": [
        {
          "output_type": "stream",
          "text": [
            "{0: 1655.0, 1: 135.0}\n"
          ],
          "name": "stdout"
        }
      ]
    },
    {
      "cell_type": "code",
      "metadata": {
        "id": "AiVmeaaZ7wA2",
        "colab_type": "code",
        "outputId": "b28ee069-8f56-42eb-cc90-6f1e673d43d8",
        "colab": {
          "base_uri": "https://localhost:8080/",
          "height": 34
        }
      },
      "source": [
        "timestep = 1\n",
        "# split into input and outputs\n",
        "train_X, train_y = train[:, :-1], train[:, -1]\n",
        "test_X, test_y = test[:, :-1], test[:, -1]\n",
        "# reshape input to be 3D [samples, timesteps, features]\n",
        "train_X = train_X.reshape((train_X.shape[0], timestep, train_X.shape[1]))\n",
        "test_X = test_X.reshape((test_X.shape[0], timestep, test_X.shape[1]))\n",
        "# keep labels as int\n",
        "train_y = train_y.astype(str)\n",
        "test_y = test_y.astype(str)\n",
        "\n",
        "print(train_X.shape, train_y.shape, test_X.shape, test_y.shape)"
      ],
      "execution_count": 0,
      "outputs": [
        {
          "output_type": "stream",
          "text": [
            "(1790, 1, 51678) (1790,) (448, 1, 51678) (448,)\n"
          ],
          "name": "stdout"
        }
      ]
    },
    {
      "cell_type": "code",
      "metadata": {
        "id": "fQFuY58778Iy",
        "colab_type": "code",
        "outputId": "b876f255-7be1-4058-c44e-8a435b7f1f50",
        "colab": {
          "base_uri": "https://localhost:8080/",
          "height": 238
        }
      },
      "source": [
        "model = Sequential()\n",
        "model.add(LSTM(200, input_shape=(train_X.shape[1], train_X.shape[2])))\n",
        "model.add(Dense(2, activation='softmax'))\n",
        "model.compile(loss='sparse_categorical_crossentropy', optimizer='adam', metrics=['mse'])\n",
        "print(model.summary())"
      ],
      "execution_count": 0,
      "outputs": [
        {
          "output_type": "stream",
          "text": [
            "Model: \"sequential_6\"\n",
            "_________________________________________________________________\n",
            "Layer (type)                 Output Shape              Param #   \n",
            "=================================================================\n",
            "lstm_6 (LSTM)                (None, 200)               41503200  \n",
            "_________________________________________________________________\n",
            "dense_6 (Dense)              (None, 2)                 402       \n",
            "=================================================================\n",
            "Total params: 41,503,602\n",
            "Trainable params: 41,503,602\n",
            "Non-trainable params: 0\n",
            "_________________________________________________________________\n",
            "None\n"
          ],
          "name": "stdout"
        }
      ]
    },
    {
      "cell_type": "code",
      "metadata": {
        "id": "uvGFSzzp8WM2",
        "colab_type": "code",
        "colab": {}
      },
      "source": [
        "history = model.fit(train_X, train_y, epochs=20, batch_size=400, validation_data=(test_X, test_y), verbose=2, shuffle=False)"
      ],
      "execution_count": 0,
      "outputs": []
    },
    {
      "cell_type": "code",
      "metadata": {
        "id": "NHVXy2r7Dy-N",
        "colab_type": "code",
        "colab": {}
      },
      "source": [
        "results = model.predict(test_X)\n",
        "final_results = np.arange(test_y.shape[0])\n",
        "index = 0\n",
        "for c in results:\n",
        "  ind = np.argmax(c)\n",
        "  final_results[index] = ind \n",
        "  index = index + 1;"
      ],
      "execution_count": 0,
      "outputs": []
    },
    {
      "cell_type": "code",
      "metadata": {
        "id": "iNH8VImNEHNz",
        "colab_type": "code",
        "outputId": "e4372733-7226-45f5-8d47-dc1e9370d995",
        "colab": {
          "base_uri": "https://localhost:8080/",
          "height": 85
        }
      },
      "source": [
        "print(\"Actual classes:\", test_y[:30])\n",
        "print(\"Predicted classes:\", final_results[:30])"
      ],
      "execution_count": 0,
      "outputs": [
        {
          "output_type": "stream",
          "text": [
            "Actual classes: ['1.0' '0.0' '0.0' '0.0' '0.0' '0.0' '0.0' '0.0' '0.0' '0.0' '0.0' '0.0'\n",
            " '0.0' '1.0' '0.0' '0.0' '0.0' '1.0' '0.0' '0.0' '0.0' '0.0' '0.0' '0.0'\n",
            " '0.0' '0.0' '0.0' '0.0' '0.0' '0.0']\n",
            "Predicted classes: [0 0 0 0 0 0 0 0 0 0 0 0 0 0 0 0 0 0 0 0 0 0 0 0 0 0 0 0 0 0]\n"
          ],
          "name": "stdout"
        }
      ]
    },
    {
      "cell_type": "code",
      "metadata": {
        "id": "5w2nLrNeEOl6",
        "colab_type": "code",
        "outputId": "3d746640-4ec4-4f7d-bd54-fa44c244c51a",
        "colab": {
          "base_uri": "https://localhost:8080/",
          "height": 249
        }
      },
      "source": [
        "correct_classification = 0\n",
        "total_classification = 0\n",
        "for d, c in zip(final_results, test_y):\n",
        "  total_classification = total_classification + 1\n",
        "  print(d, c)\n",
        "  if int(d) == int(c):\n",
        "    correct_classification = correct_classification + 1\n",
        "print(total_classification, correct_classification)"
      ],
      "execution_count": 0,
      "outputs": [
        {
          "output_type": "stream",
          "text": [
            "0 1.0\n"
          ],
          "name": "stdout"
        },
        {
          "output_type": "error",
          "ename": "ValueError",
          "evalue": "ignored",
          "traceback": [
            "\u001b[0;31m---------------------------------------------------------------------------\u001b[0m",
            "\u001b[0;31mValueError\u001b[0m                                Traceback (most recent call last)",
            "\u001b[0;32m<ipython-input-62-a46e9019af58>\u001b[0m in \u001b[0;36m<module>\u001b[0;34m()\u001b[0m\n\u001b[1;32m      4\u001b[0m   \u001b[0mtotal_classification\u001b[0m \u001b[0;34m=\u001b[0m \u001b[0mtotal_classification\u001b[0m \u001b[0;34m+\u001b[0m \u001b[0;36m1\u001b[0m\u001b[0;34m\u001b[0m\u001b[0;34m\u001b[0m\u001b[0m\n\u001b[1;32m      5\u001b[0m   \u001b[0mprint\u001b[0m\u001b[0;34m(\u001b[0m\u001b[0md\u001b[0m\u001b[0;34m,\u001b[0m \u001b[0mc\u001b[0m\u001b[0;34m)\u001b[0m\u001b[0;34m\u001b[0m\u001b[0;34m\u001b[0m\u001b[0m\n\u001b[0;32m----> 6\u001b[0;31m   \u001b[0;32mif\u001b[0m \u001b[0mint\u001b[0m\u001b[0;34m(\u001b[0m\u001b[0md\u001b[0m\u001b[0;34m)\u001b[0m \u001b[0;34m==\u001b[0m \u001b[0mint\u001b[0m\u001b[0;34m(\u001b[0m\u001b[0mc\u001b[0m\u001b[0;34m)\u001b[0m\u001b[0;34m:\u001b[0m\u001b[0;34m\u001b[0m\u001b[0;34m\u001b[0m\u001b[0m\n\u001b[0m\u001b[1;32m      7\u001b[0m     \u001b[0mcorrect_classification\u001b[0m \u001b[0;34m=\u001b[0m \u001b[0mcorrect_classification\u001b[0m \u001b[0;34m+\u001b[0m \u001b[0;36m1\u001b[0m\u001b[0;34m\u001b[0m\u001b[0;34m\u001b[0m\u001b[0m\n\u001b[1;32m      8\u001b[0m \u001b[0mprint\u001b[0m\u001b[0;34m(\u001b[0m\u001b[0mtotal_classification\u001b[0m\u001b[0;34m,\u001b[0m \u001b[0mcorrect_classification\u001b[0m\u001b[0;34m)\u001b[0m\u001b[0;34m\u001b[0m\u001b[0;34m\u001b[0m\u001b[0m\n",
            "\u001b[0;31mValueError\u001b[0m: invalid literal for int() with base 10: '1.0'"
          ]
        }
      ]
    },
    {
      "cell_type": "code",
      "metadata": {
        "id": "nq9y_wTuEbxi",
        "colab_type": "code",
        "outputId": "25b94497-97b4-4ab7-dee2-134cbbc1042e",
        "colab": {
          "base_uri": "https://localhost:8080/",
          "height": 34
        }
      },
      "source": [
        "score = (correct_classification/total_classification) * 100\n",
        "print('score:', score)"
      ],
      "execution_count": 0,
      "outputs": [
        {
          "output_type": "stream",
          "text": [
            "score: 0.0\n"
          ],
          "name": "stdout"
        }
      ]
    },
    {
      "cell_type": "code",
      "metadata": {
        "id": "roz8CmTMSnWx",
        "colab_type": "code",
        "colab": {}
      },
      "source": [
        "def getFiducialPoints(data_frame):\n",
        "  fiducial_list = []\n",
        "  for index, row in data_frame.iterrows():\n",
        "    np_temp = row.dropna().to_numpy()\n",
        "    # https://neurokit.readthedocs.io/en/latest/documentation.html\n",
        "    processed_ecg = nk.ecg_process(np_temp,sampling_rate=1000,filter_type='FIR',filter_band='bandpass',filter_frequency=[1, 40],segmenter='hamilton',quality_model='default') \n",
        "    fiducial_list.append(processed_ecg)\n",
        "    break\n",
        "  return fiducial_list\n"
      ],
      "execution_count": 0,
      "outputs": []
    },
    {
      "cell_type": "code",
      "metadata": {
        "id": "lkwAcAndKfKe",
        "colab_type": "code",
        "colab": {}
      },
      "source": [
        "f_list = getFiducialPoints(df)"
      ],
      "execution_count": 0,
      "outputs": []
    },
    {
      "cell_type": "code",
      "metadata": {
        "id": "6ySRpx0kbhG4",
        "colab_type": "code",
        "outputId": "65d98d1a-2b35-4a22-dfeb-ecebe013524d",
        "colab": {
          "base_uri": "https://localhost:8080/",
          "height": 1000
        }
      },
      "source": [
        "f_list"
      ],
      "execution_count": 0,
      "outputs": [
        {
          "output_type": "execute_result",
          "data": {
            "text/plain": [
              "[{'ECG': {'Average_Signal_Quality': 0.48124648620512533,\n",
              "   'Cardiac_Cycles':                                    0          1   ...         59          60\n",
              "   2020-03-14 17:58:19.751240  99.965553 -42.467348  ... -33.418881  -29.182194\n",
              "   2020-03-14 17:58:19.752240  99.275064 -41.981878  ... -33.377116  -28.674684\n",
              "   2020-03-14 17:58:19.753240  98.730623 -41.395626  ... -33.305808  -28.265801\n",
              "   2020-03-14 17:58:19.754240  98.326059 -40.705797  ... -33.175270  -27.969688\n",
              "   2020-03-14 17:58:19.755240  98.050688 -39.912908  ... -32.956119  -27.795999\n",
              "   ...                               ...        ...  ...        ...         ...\n",
              "   2020-03-14 17:58:20.346240 -43.858608 -27.868854  ... -29.698151  328.262517\n",
              "   2020-03-14 17:58:20.347240 -43.371081 -28.864988  ... -29.525454  328.090733\n",
              "   2020-03-14 17:58:20.348240 -42.790887 -29.682371  ... -29.669572  328.088803\n",
              "   2020-03-14 17:58:20.349240 -42.119473 -30.317894  ... -30.154826  328.267115\n",
              "   2020-03-14 17:58:20.350240 -41.364746 -30.771646  ... -30.996337  328.630287\n",
              "   \n",
              "   [600 rows x 61 columns],\n",
              "   'Cardiac_Cycles_Signal_Quality': array([7.51330012e-34, 9.62540753e-01, 6.55531362e-01, 1.72068980e-01,\n",
              "          3.67476736e-01, 9.48929285e-01, 9.84952226e-01, 6.36580434e-01,\n",
              "          5.24942238e-01, 9.85082555e-01, 8.41526979e-02, 6.67785197e-02,\n",
              "          9.37377971e-01, 9.37834063e-01, 9.98392193e-01, 9.83951400e-01,\n",
              "          6.85520886e-04, 3.19885213e-03, 9.65827935e-07, 9.33187645e-01,\n",
              "          9.95867177e-01, 4.79437604e-01, 4.50475990e-01, 9.98864586e-01,\n",
              "          9.95516112e-01, 2.00658259e-06, 1.20802421e-02, 9.77388393e-01,\n",
              "          2.19168086e-02, 1.37774623e-05, 3.94236581e-03, 1.13200425e-02,\n",
              "          9.86930055e-01, 9.99981258e-01, 2.97267290e-01, 9.01979790e-06,\n",
              "          1.79044298e-04, 1.87693304e-01, 2.71449346e-04, 4.59902983e-04,\n",
              "          9.52911078e-01, 9.99665977e-01, 1.46372537e-01, 9.97792704e-01,\n",
              "          9.93096587e-01, 1.97259745e-03, 9.99911008e-01, 9.12275474e-01,\n",
              "          9.96087019e-01, 3.01239565e-02, 2.47361591e-06, 8.67029315e-01,\n",
              "          1.49782117e-01, 4.04214742e-03, 4.32322890e-04, 9.81356788e-01,\n",
              "          2.34203134e-01, 9.97071011e-01, 4.77661201e-01, 1.09653824e-02,\n",
              "          1.19883225e-27]),\n",
              "   'ECG_Signal_Quality': 634     -9.867669e-18\n",
              "   635      2.377698e-03\n",
              "   636      4.751918e-03\n",
              "   637      7.122660e-03\n",
              "   638      9.489928e-03\n",
              "                ...     \n",
              "   49894   -7.408360e-04\n",
              "   49895   -5.931594e-04\n",
              "   49896   -4.452371e-04\n",
              "   49897   -2.970694e-04\n",
              "   49898   -1.486569e-04\n",
              "   Name: ECG_Signal_Quality, Length: 49265, dtype: float64,\n",
              "   'HRV': {'CVSD': 0.02688052179181049,\n",
              "    'HF': 219799.4002750672,\n",
              "    'HF/P': 0.4899814540136884,\n",
              "    'HFn': 0.6437685257643605,\n",
              "    'LF': 121626.73579471743,\n",
              "    'LF/HF': 0.5533533560260313,\n",
              "    'LF/P': 0.27113288196898905,\n",
              "    'LFn': 0.3562314742356395,\n",
              "    'RMSSD': 22.071148434559063,\n",
              "    'RR_Intervals': 0     824.0\n",
              "    1     835.0\n",
              "    2     851.0\n",
              "    3     836.0\n",
              "    4     814.0\n",
              "    5     825.0\n",
              "    6     840.0\n",
              "    7     847.0\n",
              "    8     845.0\n",
              "    9     814.0\n",
              "    10    832.0\n",
              "    11    818.0\n",
              "    12    823.0\n",
              "    13    795.0\n",
              "    14    775.0\n",
              "    15    813.0\n",
              "    16    829.0\n",
              "    17    840.0\n",
              "    18    851.0\n",
              "    19    837.0\n",
              "    20    807.0\n",
              "    21    830.0\n",
              "    22    833.0\n",
              "    23    838.0\n",
              "    24    836.0\n",
              "    25    819.0\n",
              "    26    776.0\n",
              "    27    817.0\n",
              "    28    819.0\n",
              "    29    832.0\n",
              "    30    827.0\n",
              "    31    796.0\n",
              "    32    807.0\n",
              "    33    823.0\n",
              "    34    828.0\n",
              "    35    832.0\n",
              "    36    807.0\n",
              "    37    838.0\n",
              "    38    814.0\n",
              "    39    814.0\n",
              "    40    778.0\n",
              "    41    794.0\n",
              "    42    819.0\n",
              "    43    828.0\n",
              "    44    826.0\n",
              "    45    787.0\n",
              "    46    746.0\n",
              "    47    779.0\n",
              "    48    810.0\n",
              "    49    837.0\n",
              "    50    850.0\n",
              "    51    815.0\n",
              "    52    787.0\n",
              "    53    823.0\n",
              "    54    843.0\n",
              "    55    849.0\n",
              "    56    855.0\n",
              "    57    825.0\n",
              "    58    830.0\n",
              "    59    847.0\n",
              "    dtype: float64,\n",
              "    'Shannon_h': 3.8073549220576055,\n",
              "    'Total_Power': 448587.1831976047,\n",
              "    'Triang': 2680.2735990829933,\n",
              "    'ULF': 0.0,\n",
              "    'VHF': 18493.763550566953,\n",
              "    'VLF': 0.0,\n",
              "    'cvNN': 0.027075093647507306,\n",
              "    'madNN': 11.5,\n",
              "    'mcvNN': 0.013939393939393939,\n",
              "    'meanNN': 821.0833333333334,\n",
              "    'medianNN': 825.0,\n",
              "    'n_Artifacts': 0.0,\n",
              "    'pNN20': 38.333333333333336,\n",
              "    'pNN50': 0.0,\n",
              "    'sdNN': 22.230908142407458},\n",
              "   'P_Waves': [1357,\n",
              "    2100,\n",
              "    2957,\n",
              "    3869,\n",
              "    4682,\n",
              "    5265,\n",
              "    6176,\n",
              "    7035,\n",
              "    7744,\n",
              "    8628,\n",
              "    9467,\n",
              "    10411,\n",
              "    11325,\n",
              "    11931,\n",
              "    12909,\n",
              "    13479,\n",
              "    14542,\n",
              "    15383,\n",
              "    15994,\n",
              "    17085,\n",
              "    17883,\n",
              "    18476,\n",
              "    19539,\n",
              "    20172,\n",
              "    20987,\n",
              "    21925,\n",
              "    22819,\n",
              "    23627,\n",
              "    24463,\n",
              "    25277,\n",
              "    26111,\n",
              "    26907,\n",
              "    27713,\n",
              "    28467,\n",
              "    29189,\n",
              "    29972,\n",
              "    30779,\n",
              "    31838,\n",
              "    32662,\n",
              "    33258,\n",
              "    34248,\n",
              "    35035,\n",
              "    35856,\n",
              "    36688,\n",
              "    37507,\n",
              "    38291,\n",
              "    38829,\n",
              "    39664,\n",
              "    40458,\n",
              "    41230,\n",
              "    42161,\n",
              "    43131,\n",
              "    43918,\n",
              "    44702,\n",
              "    45452,\n",
              "    46452,\n",
              "    47084],\n",
              "   'Probable_Lead': 'avl',\n",
              "   'Q_Waves': [1435,\n",
              "    2270,\n",
              "    3121,\n",
              "    3957,\n",
              "    4771,\n",
              "    5595,\n",
              "    6435,\n",
              "    7283,\n",
              "    8128,\n",
              "    8941,\n",
              "    9774,\n",
              "    10593,\n",
              "    11414,\n",
              "    12210,\n",
              "    12986,\n",
              "    13797,\n",
              "    14626,\n",
              "    15467,\n",
              "    16317,\n",
              "    17154,\n",
              "    17962,\n",
              "    18791,\n",
              "    19625,\n",
              "    20464,\n",
              "    21300,\n",
              "    22118,\n",
              "    22894,\n",
              "    23711,\n",
              "    24529,\n",
              "    25362,\n",
              "    26189,\n",
              "    26985,\n",
              "    27792,\n",
              "    28614,\n",
              "    29443,\n",
              "    30275,\n",
              "    31083,\n",
              "    31920,\n",
              "    32735,\n",
              "    33548,\n",
              "    34326,\n",
              "    35120,\n",
              "    35938,\n",
              "    36767,\n",
              "    37593,\n",
              "    38380,\n",
              "    39125,\n",
              "    39905,\n",
              "    40715,\n",
              "    41553,\n",
              "    42402,\n",
              "    43218,\n",
              "    44005,\n",
              "    44826,\n",
              "    45670,\n",
              "    46519,\n",
              "    47374],\n",
              "   'Q_Waves_Onsets': [1399,\n",
              "    2181,\n",
              "    3035,\n",
              "    3916,\n",
              "    4730,\n",
              "    5427,\n",
              "    6305,\n",
              "    7153,\n",
              "    7926,\n",
              "    8775,\n",
              "    9619,\n",
              "    10509,\n",
              "    11377,\n",
              "    12074,\n",
              "    12945,\n",
              "    13635,\n",
              "    14587,\n",
              "    15423,\n",
              "    16153,\n",
              "    17126,\n",
              "    17930,\n",
              "    18640,\n",
              "    19586,\n",
              "    20321,\n",
              "    21153,\n",
              "    22024,\n",
              "    22850,\n",
              "    23668,\n",
              "    24501,\n",
              "    25320,\n",
              "    26148,\n",
              "    26946,\n",
              "    27758,\n",
              "    28542,\n",
              "    29321,\n",
              "    30118,\n",
              "    30931,\n",
              "    31876,\n",
              "    32702,\n",
              "    33411,\n",
              "    34281,\n",
              "    35079,\n",
              "    35897,\n",
              "    36728,\n",
              "    37553,\n",
              "    38349,\n",
              "    38976,\n",
              "    39783,\n",
              "    40602,\n",
              "    41396,\n",
              "    42274,\n",
              "    43178,\n",
              "    43966,\n",
              "    44772,\n",
              "    45552,\n",
              "    46490,\n",
              "    47233],\n",
              "   'R_Peaks': array([  634,  1458,  2293,  3144,  3980,  4794,  5619,  6459,  7306,\n",
              "           8151,  8965,  9797, 10615, 11438, 12233, 13008, 13821, 14650,\n",
              "          15490, 16341, 17178, 17985, 18815, 19648, 20486, 21322, 22141,\n",
              "          22917, 23734, 24553, 25385, 26212, 27008, 27815, 28638, 29466,\n",
              "          30298, 31105, 31943, 32757, 33571, 34349, 35143, 35962, 36790,\n",
              "          37616, 38403, 39149, 39928, 40738, 41575, 42425, 43240, 44027,\n",
              "          44850, 45693, 46542, 47397, 48222, 49052, 49899]),\n",
              "   'S_Waves': [658,\n",
              "    1486,\n",
              "    2318,\n",
              "    3171,\n",
              "    4006,\n",
              "    4818,\n",
              "    5645,\n",
              "    6486,\n",
              "    7331,\n",
              "    8175,\n",
              "    8989,\n",
              "    9822,\n",
              "    10641,\n",
              "    11462,\n",
              "    12257,\n",
              "    13032,\n",
              "    13845,\n",
              "    14676,\n",
              "    15518,\n",
              "    16369,\n",
              "    17201,\n",
              "    18009,\n",
              "    18840,\n",
              "    19673,\n",
              "    20512,\n",
              "    21347,\n",
              "    22165,\n",
              "    22940,\n",
              "    23760,\n",
              "    24580,\n",
              "    25412,\n",
              "    26237,\n",
              "    27031,\n",
              "    27840,\n",
              "    28663,\n",
              "    29494,\n",
              "    30324,\n",
              "    31129,\n",
              "    31967,\n",
              "    32783,\n",
              "    33597,\n",
              "    34374,\n",
              "    35189,\n",
              "    36003,\n",
              "    36817,\n",
              "    37641,\n",
              "    38426,\n",
              "    39173,\n",
              "    39954,\n",
              "    40764,\n",
              "    41603,\n",
              "    42472,\n",
              "    43265,\n",
              "    44051,\n",
              "    44877,\n",
              "    45743,\n",
              "    46567,\n",
              "    47421],\n",
              "   'T_Waves': [897,\n",
              "    1716,\n",
              "    2556,\n",
              "    3412,\n",
              "    4247,\n",
              "    5062,\n",
              "    5875,\n",
              "    6721,\n",
              "    7581,\n",
              "    8418,\n",
              "    9223,\n",
              "    10064,\n",
              "    10881,\n",
              "    11704,\n",
              "    12495,\n",
              "    13267,\n",
              "    14082,\n",
              "    14908,\n",
              "    15759,\n",
              "    16600,\n",
              "    17433,\n",
              "    18248,\n",
              "    19082,\n",
              "    19909,\n",
              "    20743,\n",
              "    21588,\n",
              "    22403,\n",
              "    23175,\n",
              "    23992,\n",
              "    24810,\n",
              "    25661,\n",
              "    26481,\n",
              "    27274,\n",
              "    28070,\n",
              "    28901,\n",
              "    29737,\n",
              "    30544,\n",
              "    31368,\n",
              "    32191,\n",
              "    33022,\n",
              "    33832,\n",
              "    34589,\n",
              "    35393,\n",
              "    36227,\n",
              "    37059,\n",
              "    37872,\n",
              "    38662,\n",
              "    39414,\n",
              "    40194,\n",
              "    40996,\n",
              "    41850,\n",
              "    42669,\n",
              "    43500,\n",
              "    44294,\n",
              "    45115,\n",
              "    45954,\n",
              "    46800,\n",
              "    47670],\n",
              "   'T_Waves_Ends': [945,\n",
              "    1768,\n",
              "    2598,\n",
              "    3476,\n",
              "    4296,\n",
              "    5122,\n",
              "    5925,\n",
              "    6749,\n",
              "    7611,\n",
              "    8443,\n",
              "    9269,\n",
              "    10111,\n",
              "    10942,\n",
              "    11758,\n",
              "    12557,\n",
              "    13318,\n",
              "    14130,\n",
              "    14949,\n",
              "    15812,\n",
              "    16660,\n",
              "    17486,\n",
              "    18286,\n",
              "    19139,\n",
              "    19953,\n",
              "    20790,\n",
              "    21656,\n",
              "    22470,\n",
              "    23229,\n",
              "    24064,\n",
              "    24858,\n",
              "    25703,\n",
              "    26527,\n",
              "    27314,\n",
              "    28102,\n",
              "    28957,\n",
              "    29771,\n",
              "    30569,\n",
              "    31456,\n",
              "    32207,\n",
              "    33054,\n",
              "    33873,\n",
              "    34607,\n",
              "    35414,\n",
              "    36252,\n",
              "    37108,\n",
              "    37893,\n",
              "    38685,\n",
              "    39458,\n",
              "    40226,\n",
              "    41018,\n",
              "    41874,\n",
              "    42685,\n",
              "    43539,\n",
              "    44357,\n",
              "    45165,\n",
              "    46004,\n",
              "    46820,\n",
              "    47716],\n",
              "   'T_Waves_Onsets': [774,\n",
              "    1597,\n",
              "    2429,\n",
              "    3294,\n",
              "    4129,\n",
              "    4946,\n",
              "    5762,\n",
              "    6598,\n",
              "    7452,\n",
              "    8313,\n",
              "    9111,\n",
              "    9948,\n",
              "    10767,\n",
              "    11589,\n",
              "    12367,\n",
              "    13140,\n",
              "    13963,\n",
              "    14799,\n",
              "    15644,\n",
              "    16477,\n",
              "    17315,\n",
              "    18142,\n",
              "    18958,\n",
              "    19796,\n",
              "    20626,\n",
              "    21467,\n",
              "    22293,\n",
              "    23051,\n",
              "    23879,\n",
              "    24699,\n",
              "    25517,\n",
              "    26358,\n",
              "    27149,\n",
              "    27961,\n",
              "    28780,\n",
              "    29615,\n",
              "    30423,\n",
              "    31227,\n",
              "    32091,\n",
              "    32906,\n",
              "    33721,\n",
              "    34492,\n",
              "    35276,\n",
              "    36121,\n",
              "    36937,\n",
              "    37755,\n",
              "    38553,\n",
              "    39277,\n",
              "    40076,\n",
              "    40880,\n",
              "    41728,\n",
              "    42565,\n",
              "    43384,\n",
              "    44169,\n",
              "    44998,\n",
              "    45850,\n",
              "    46689,\n",
              "    47550]},\n",
              "  'df':            ECG_Raw  ECG_Filtered  ...  ECG_HRV_HF  ECG_HRV_VHF\n",
              "  0        65.347867     30.549220  ...   11.152102     0.722188\n",
              "  1       197.594708    137.515840  ...    8.147139     0.859601\n",
              "  2       324.101847    242.791165  ...    8.141023     0.866792\n",
              "  3       442.088797    344.734604  ...    7.404831     0.916862\n",
              "  4       549.664593    441.805044  ...    7.399470     0.923067\n",
              "  ...            ...           ...  ...         ...          ...\n",
              "  50845  1322.525538    874.517716  ...         NaN          NaN\n",
              "  50846  1175.699310    743.474449  ...         NaN          NaN\n",
              "  50847  1018.645585    606.395593  ...         NaN          NaN\n",
              "  50848   854.720324    465.193703  ...         NaN          NaN\n",
              "  50849   688.576739    321.900056  ...         NaN          NaN\n",
              "  \n",
              "  [50850 rows x 12 columns]}]"
            ]
          },
          "metadata": {
            "tags": []
          },
          "execution_count": 11
        }
      ]
    }
  ]
}